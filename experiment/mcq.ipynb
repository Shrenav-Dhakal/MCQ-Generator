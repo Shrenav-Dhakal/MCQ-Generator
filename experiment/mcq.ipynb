{
 "cells": [
  {
   "cell_type": "code",
   "execution_count": 8,
   "metadata": {},
   "outputs": [],
   "source": [
    "import os\n",
    "import json\n",
    "import langchain_google_genai as genai\n",
    "import traceback\n",
    "from langchain.prompts import PromptTemplate\n",
    "from langchain.chains import LLMChain, SequentialChain\n",
    "from langchain.callbacks import get_openai_callback\n",
    "import PyPDF2\n"
   ]
  },
  {
   "cell_type": "code",
   "execution_count": 2,
   "metadata": {},
   "outputs": [
    {
     "data": {
      "text/plain": [
       "True"
      ]
     },
     "execution_count": 2,
     "metadata": {},
     "output_type": "execute_result"
    }
   ],
   "source": [
    "from dotenv import load_dotenv\n",
    "load_dotenv()"
   ]
  },
  {
   "cell_type": "code",
   "execution_count": 3,
   "metadata": {},
   "outputs": [],
   "source": [
    "google_api = os.getenv(\"GOOGLE_API_KEY\") "
   ]
  },
  {
   "cell_type": "code",
   "execution_count": 5,
   "metadata": {},
   "outputs": [],
   "source": [
    "model = genai.GoogleGenerativeAI(google_api_key=google_api, model=\"gemini-1.0-pro\", temperature=0.3)"
   ]
  },
  {
   "cell_type": "code",
   "execution_count": 6,
   "metadata": {},
   "outputs": [
    {
     "data": {
      "text/plain": [
       "GoogleGenerativeAI(model='gemini-1.0-pro', google_api_key=SecretStr('**********'), temperature=0.3, client=genai.GenerativeModel(\n",
       "    model_name='models/gemini-1.0-pro',\n",
       "    generation_config={},\n",
       "    safety_settings={},\n",
       "    tools=None,\n",
       "))"
      ]
     },
     "execution_count": 6,
     "metadata": {},
     "output_type": "execute_result"
    }
   ],
   "source": [
    "model"
   ]
  },
  {
   "cell_type": "code",
   "execution_count": 10,
   "metadata": {},
   "outputs": [],
   "source": [
    "RESPONSE_JSON = {\n",
    "    1:{\n",
    "        \"question\": \"multiple choice question\",\n",
    "        \"options\":{\n",
    "            \"a\":\"1st choice\",\n",
    "            \"b\": \"2nd choice\",\n",
    "            \"c\": \"3rd choice\",\n",
    "            \"d\": \"4th choice\"\n",
    "        },\n",
    "        \"correct\": \"correct answer\"\n",
    "    },\n",
    "    2:{\n",
    "        \"question\": \"multiple choice question\",\n",
    "        \"options\":{\n",
    "            \"a\":\"1st choice\",\n",
    "            \"b\": \"2nd choice\",\n",
    "            \"c\": \"3rd choice\",\n",
    "            \"d\": \"4th choice\"\n",
    "        },\n",
    "        \"correct\": \"correct answer\"\n",
    "    },\n",
    "    3:{\n",
    "        \"question\": \"multiple choice question\",\n",
    "        \"options\":{\n",
    "            \"a\":\"1st choice\",\n",
    "            \"b\": \"2nd choice\",\n",
    "            \"c\": \"3rd choice\",\n",
    "            \"d\": \"4th choice\"\n",
    "        },\n",
    "        \"correct\": \"correct answer\"\n",
    "    }\n",
    "}"
   ]
  },
  {
   "cell_type": "code",
   "execution_count": 46,
   "metadata": {},
   "outputs": [],
   "source": [
    "template = \"\"\"\n",
    "Text : {text} \n",
    "You are an expert MCQ maker. Based on the above text , you are to create \\\n",
    "{number} MCQ questions for {subject} students in {tone} tone.\n",
    "Avoid asking questions from the text that are related to date.\n",
    "Make sure the questions are not repeated and also confirm the question along with answer \\\n",
    "from the given text. You are to provide output in RESPONE_JSON format. \n",
    "Make sure you create {number} questions.\n",
    "### RESPONSE_JSON\n",
    "{response_json}\n",
    "\"\"\"\n",
    "\n",
    "quiz_template = PromptTemplate(\n",
    "    input_variables=['text','number', 'subject', 'tone', 'response_json'],\n",
    "    template=template\n",
    ")\n",
    "\n",
    "quiz_chain = LLMChain(llm=model, prompt=quiz_template, output_key=\"quiz\", verbose=True)"
   ]
  },
  {
   "cell_type": "code",
   "execution_count": 47,
   "metadata": {},
   "outputs": [],
   "source": [
    "template2 = \"\"\"\n",
    "You are an expert grammar evaluator and question checker.\n",
    "Given the MCQ quiz questions for {subject} students, you are to \\\n",
    "evaluate the {quiz} questions to check its complexity. Make sure the question \\\n",
    "consist less than 50 words and also determine whether the questions align with \\\n",
    "the capabilites of the students. Make sure to update the question and also maintain the \\\n",
    "provided tone.\n",
    "## MCQ quiz questions\n",
    "{quiz}\n",
    "\"\"\"\n",
    "\n",
    "evaluate_prompt = PromptTemplate(\n",
    "    template = template2,\n",
    "    input_variables=['subject', 'quiz']\n",
    ")\n",
    "\n",
    "evaluate_chain = LLMChain(llm=model, prompt=evaluate_prompt, output_key='review', verbose=True)"
   ]
  },
  {
   "cell_type": "code",
   "execution_count": 48,
   "metadata": {},
   "outputs": [],
   "source": [
    "final_chain = SequentialChain(chains=[quiz_chain, evaluate_chain],\n",
    "                              input_variables=['text', 'number', 'subject', 'tone', 'response_json'],\n",
    "                              output_variables=['quiz', 'review'],verbose=True)\n"
   ]
  },
  {
   "cell_type": "code",
   "execution_count": 49,
   "metadata": {},
   "outputs": [],
   "source": [
    "text = \"\"\n",
    "with open(\"data.txt\", \"r\") as file:\n",
    "    text = file.read()"
   ]
  },
  {
   "cell_type": "code",
   "execution_count": 57,
   "metadata": {},
   "outputs": [],
   "source": [
    "number = 5\n",
    "subject = \"sports ethusiast\"\n",
    "tone = \"extremely hard\""
   ]
  },
  {
   "cell_type": "code",
   "execution_count": 58,
   "metadata": {},
   "outputs": [
    {
     "name": "stdout",
     "output_type": "stream",
     "text": [
      "\n",
      "\n",
      "\u001b[1m> Entering new SequentialChain chain...\u001b[0m\n",
      "\n",
      "\n",
      "\u001b[1m> Entering new LLMChain chain...\u001b[0m\n",
      "Prompt after formatting:\n",
      "\u001b[32;1m\u001b[1;3m\n",
      "Text : The Premier League is the highest level of the English football league system. Contested by 20 clubs, it operates on a system of promotion and relegation with the English Football League (EFL). Seasons typically run from August to May, with each team playing 38 matches: two against each other team, one home and one away.[1] Most games are played on Saturday and Sunday afternoons, with occasional weekday evening fixtures.[2]\n",
      "\n",
      "The competition was founded as the FA Premier League on 20 February 1992 following the decision of First Division (top-tier league from 1888 until 1992) clubs to break away from the English Football League. However, teams may still be relegated to and promoted from the EFL Championship. The Premier League takes advantage of a Â£5 billion television rights deal, with Sky and BT Group securing the domestic rights to broadcast 128 and 32 games, respectively.[3][4] This deal will rise to Â£6.7 billion for the four seasons from 2025 to 2029.[5] The league is projected to earn $7.2bn in overseas TV rights from 2022 to 2025.[6] The Premier League is a corporation managed by a chief executive, with member clubs acting as shareholders.[7] Clubs were apportioned central payment revenues of Â£2.4 billion in 2016â€“17, with a further Â£343 million in solidarity payments to EFL clubs.[8]\n",
      "\n",
      "The Premier League is the most-watched sports league in the world, broadcast in 212 territories to 643 million homes, with a potential TV audience of 4.7 billion people.[9][10] For the 2018â€“19 season, the average Premier League match attendance was at 38,181,[11] second to the German Bundesliga's 43,500,[12] while aggregated attendance across all matches was the highest of any association football league at 14,508,981,[13] and most stadium occupancies are near capacity.[14] As of 2023, the Premier League is ranked first in the UEFA coefficient rankings based on performances in European competitions over the past five seasons, ahead of Spain's La Liga.[15] The English top-flight has produced the second-highest number of European Cup / UEFA Champions League titles, with a record six English clubs having won fifteen European championships in total.[16]\n",
      "\n",
      "Fifty-one clubs have competed in the Premier League since its inception in 1992: 49 from England and two from Wales. Seven of them have won the title: Manchester United (13), Manchester City (7), Chelsea (5), Arsenal (3), Blackburn Rovers (1), Leicester City (1) and Liverpool (1);[17] the two Manchester clubs hold the distinction of having won three titles in a row, while six clubs have avoided relegation: Arsenal, Chelsea, Everton, Liverpool, Manchester United and Tottenham Hotspur.[18\n",
      "The 2000s saw the rise of first Liverpool, and then Arsenal to real competitiveness, Chelsea finally breaking the duopoly by winning the league in 2004â€“05. The dominance of the so-called \"Big Four\" clubs â€“ Arsenal, Chelsea, Liverpool and Manchester United[39][40] â€“ saw them finish at the top of the table for the bulk of the decade, thereby guaranteeing qualification for the UEFA Champions League. Only three other clubs managed to qualify for the competition during this period: Newcastle United (2001â€“02 and 2002â€“03), Everton (2004â€“05) and Tottenham Hotspur (2009â€“10) â€“ each occupying the final Champions League spot, with the exception of Newcastle in the 2002â€“03 season, who finished third.\n",
      "\n",
      "Following the 2003â€“04 season, Arsenal acquired the nickname \"The Invincibles\" as it became the first, and to date, only club to complete a Premier League campaign without losing a single game.[41][42]\n",
      "\n",
      "In May 2008, Kevin Keegan stated that \"Big Four\" dominance threatened the division: \"This league is in danger of becoming one of the most boring but great leagues in the world.\"[43] Premier League chief executive Richard Scudamore said in defence: \"There are a lot of different tussles that go on in the Premier League depending on whether you're at the top, in the middle or at the bottom that make it interesting.\"[44]\n",
      "\n",
      "Between 2005 and 2012 there was a Premier League representative in seven of the eight Champions League finals, with only \"Big Four\" clubs reaching that stage. Liverpool (2005), Manchester United (2008) and Chelsea (2012) won the competition during this period, with Arsenal (2006), Liverpool (2007), Chelsea (2008) and Manchester United (2009 and 2011) all losing Champions League finals.[45] Leeds United were the only non-\"Big Four\" side to reach the semi-finals of the Champions League, in the 2000â€“01 season. There were three Premier League teams in the Champions League semi-finals in 2006â€“07, 2007â€“08, and 2008â€“09, a feat only ever achieved five times (along with Serie A in 2002â€“03 and La Liga in 1999â€“2000).\n",
      "\n",
      "Additionally, between the 1999â€“2000 and 2009â€“10 seasons, four Premier League sides reached UEFA Cup or Europa League finals, with only Liverpool managing to win the competition in 2001. Arsenal (2000), Middlesbrough (2006) and Fulham (2010) all lost their finals.[46]\n",
      "\n",
      "Although the group's dominance was reduced to a degree after this period with the emergence of Manchester City and Tottenham, in terms of all-time Premier League points won they remain clear by some margin. As of the end of the 2021â€“22 season â€“ the 27th season of the Premier League â€“ Liverpool, in fourth place in the all-time points table, were over 300 points ahead of the next team, Tottenham Hotspur. They are also the only teams to maintain a winning average of over 50% throughout their entire Premier League tenures.[47]\n",
      "The years following 2009 marked a shift in the structure of the \"Big Four\" with Tottenham Hotspur and Manchester City both breaking into the top four places on a regular basis, turning the \"Big Four\" into the \"Big Six\".[48] In the 2009â€“10 season, Tottenham finished fourth and became the first team to break into the top four since Everton five years prior.[49] Criticism of the gap between an elite group of \"super clubs\" and the majority of the Premier League has continued, nevertheless, due to their increasing ability to spend more than the other Premier League clubs.[50] Manchester City won the title in the 2011â€“12 season, becoming the first club outside the \"Big Four\" to win since Blackburn Rovers in the 1994â€“95 season. That season also saw two of the \"Big Four\" (Chelsea and Liverpool) finish outside the top four places for the first time since that season.[48]\n",
      "\n",
      "With only four UEFA Champions League qualifying places available in the league, greater competition for qualification now exists, albeit from a narrow base of six clubs. In the five seasons following the 2011â€“12 campaign, Manchester United and Liverpool both found themselves outside of the top four three times, while Chelsea finished 10th in the 2015â€“16 season. Arsenal finished 5th in 2016â€“17, ending their record run of 20 consecutive top-four finishes.[51]\n",
      "\n",
      "In the 2015â€“16 season, underdogs Leicester City won the Premier League. With 5000/1 odds of winning the league at the beginning of the season, Leicester became the first club outside the \"Big Six\" to win the Premier League since Blackburn Rovers in the 1994â€“95 season.[52]\n",
      "\n",
      "Off the pitch, the \"Big Six\" wield significant financial power and influence, with these clubs arguing that they should be entitled to a greater share of revenue due to the greater stature of their clubs globally and the attractive football they aim to play.[53] Objectors argue that the egalitarian revenue structure in the Premier League helps to maintain a competitive league which is vital for its future success.[54] The 2016â€“17 Deloitte Football Money League report showed the financial disparity between the \"Big Six\" and the rest of the division. All of the \"Big Six\" had revenues greater than â‚¬350 million, with Manchester United having the largest revenue in the league at â‚¬676.3 million. Leicester City was the closest club to the \"Big Six\" in terms of revenue, recording a figure of â‚¬271.1 million for that season â€“ helped by participation in the Champions League. The eighth-largest revenue generator, West Ham â€“ who did not play in European competition â€“ had revenues of â‚¬213.3 million, less than half of those of the club with the fifth-largest revenue, Liverpool (â‚¬424.2 million).[55] A substantial part of the clubs' revenue by then came from television broadcast deals, with the biggest clubs each taking from around Â£150 million to nearly Â£200 million in the 2016â€“17 season from such deals.[56] In Deloitte's 2019 report, all the \"Big Six\" were in the top ten of the world's richest clubs.[57]\n",
      " \n",
      "You are an expert MCQ maker. Based on the above text , you are to create 5 MCQ questions for sports ethusiast students in extremely hard tone.\n",
      "Avoid asking questions from the text that are related to date.\n",
      "Make sure the questions are not repeated and also confirm the question along with answer from the given text. You are to provide output in RESPONE_JSON format. \n",
      "Make sure you create 5 questions.\n",
      "### RESPONSE_JSON\n",
      "{\"1\": {\"question\": \"multiple choice question\", \"options\": {\"a\": \"1st choice\", \"b\": \"2nd choice\", \"c\": \"3rd choice\", \"d\": \"4th choice\"}, \"correct\": \"correct answer\"}, \"2\": {\"question\": \"multiple choice question\", \"options\": {\"a\": \"1st choice\", \"b\": \"2nd choice\", \"c\": \"3rd choice\", \"d\": \"4th choice\"}, \"correct\": \"correct answer\"}, \"3\": {\"question\": \"multiple choice question\", \"options\": {\"a\": \"1st choice\", \"b\": \"2nd choice\", \"c\": \"3rd choice\", \"d\": \"4th choice\"}, \"correct\": \"correct answer\"}}\n",
      "\u001b[0m\n",
      "\n",
      "\u001b[1m> Finished chain.\u001b[0m\n",
      "\n",
      "\n",
      "\u001b[1m> Entering new LLMChain chain...\u001b[0m\n",
      "Prompt after formatting:\n",
      "\u001b[32;1m\u001b[1;3m\n",
      "You are an expert grammar evaluator and question checker.\n",
      "Given the MCQ quiz questions for sports ethusiast students, you are to evaluate the {\"1\": {\"question\": \"Which club holds the distinction of being the only one to complete a Premier League campaign without losing a single game?\", \"options\": {\"a\": \"Manchester United\", \"b\": \"Arsenal\", \"c\": \"Chelsea\", \"d\": \"Liverpool\"}, \"correct\": \"b\"}, \"2\": {\"question\": \"Which club won the Premier League title in the 2015-16 season, despite having odds of 5000/1 at the beginning of the season?\", \"options\": {\"a\": \"Leicester City\", \"b\": \"Tottenham Hotspur\", \"c\": \"Manchester City\", \"d\": \"Arsenal\"}, \"correct\": \"a\"}, \"3\": {\"question\": \"Which club has the highest revenue in the Premier League, according to the 2016-17 Deloitte Football Money League report?\", \"options\": {\"a\": \"Manchester United\", \"b\": \"Manchester City\", \"c\": \"Chelsea\", \"d\": \"Liverpool\"}, \"correct\": \"a\"}, \"4\": {\"question\": \"Which club has the second-highest number of European Cup/UEFA Champions League titles, with a record six English clubs having won fifteen European championships in total?\", \"options\": {\"a\": \"Manchester United\", \"b\": \"Liverpool\", \"c\": \"Chelsea\", \"d\": \"Arsenal\"}, \"correct\": \"b\"}, \"5\": {\"question\": \"Which club acquired the nickname 'The Invincibles' following the 2003-04 season?\", \"options\": {\"a\": \"Manchester United\", \"b\": \"Arsenal\", \"c\": \"Chelsea\", \"d\": \"Liverpool\"}, \"correct\": \"b\"}} questions to check its complexity. Make sure the question consist less than 50 words and also determine whether the questions align with the capabilites of the students. Make sure to update the question and also maintain the provided tone.\n",
      "## MCQ quiz questions\n",
      "{\"1\": {\"question\": \"Which club holds the distinction of being the only one to complete a Premier League campaign without losing a single game?\", \"options\": {\"a\": \"Manchester United\", \"b\": \"Arsenal\", \"c\": \"Chelsea\", \"d\": \"Liverpool\"}, \"correct\": \"b\"}, \"2\": {\"question\": \"Which club won the Premier League title in the 2015-16 season, despite having odds of 5000/1 at the beginning of the season?\", \"options\": {\"a\": \"Leicester City\", \"b\": \"Tottenham Hotspur\", \"c\": \"Manchester City\", \"d\": \"Arsenal\"}, \"correct\": \"a\"}, \"3\": {\"question\": \"Which club has the highest revenue in the Premier League, according to the 2016-17 Deloitte Football Money League report?\", \"options\": {\"a\": \"Manchester United\", \"b\": \"Manchester City\", \"c\": \"Chelsea\", \"d\": \"Liverpool\"}, \"correct\": \"a\"}, \"4\": {\"question\": \"Which club has the second-highest number of European Cup/UEFA Champions League titles, with a record six English clubs having won fifteen European championships in total?\", \"options\": {\"a\": \"Manchester United\", \"b\": \"Liverpool\", \"c\": \"Chelsea\", \"d\": \"Arsenal\"}, \"correct\": \"b\"}, \"5\": {\"question\": \"Which club acquired the nickname 'The Invincibles' following the 2003-04 season?\", \"options\": {\"a\": \"Manchester United\", \"b\": \"Arsenal\", \"c\": \"Chelsea\", \"d\": \"Liverpool\"}, \"correct\": \"b\"}}\n",
      "\u001b[0m\n",
      "\n",
      "\u001b[1m> Finished chain.\u001b[0m\n",
      "\n",
      "\u001b[1m> Finished chain.\u001b[0m\n"
     ]
    }
   ],
   "source": [
    "with get_openai_callback() as cb:\n",
    "    response = final_chain(\n",
    "        {\n",
    "            \"text\":text,\n",
    "            \"number\":number,\n",
    "            \"subject\": subject,\n",
    "            \"tone\": tone,\n",
    "            \"response_json\": json.dumps(RESPONSE_JSON)\n",
    "        }\n",
    "    )"
   ]
  },
  {
   "cell_type": "code",
   "execution_count": 82,
   "metadata": {},
   "outputs": [
    {
     "name": "stdout",
     "output_type": "stream",
     "text": [
      "Tokens Used: 0\n",
      "\tPrompt Tokens: 0\n",
      "\tCompletion Tokens: 0\n",
      "Successful Requests: 0\n",
      "Total Cost (USD): $0.0\n"
     ]
    }
   ],
   "source": [
    "print(cb)"
   ]
  },
  {
   "cell_type": "code",
   "execution_count": 59,
   "metadata": {},
   "outputs": [
    {
     "data": {
      "text/plain": [
       "'{\"1\": {\"question\": \"Which club holds the distinction of being the only one to complete a Premier League campaign without losing a single game?\", \"options\": {\"a\": \"Manchester United\", \"b\": \"Arsenal\", \"c\": \"Chelsea\", \"d\": \"Liverpool\"}, \"correct\": \"b\"}, \"2\": {\"question\": \"Which club won the Premier League title in the 2015-16 season, despite having odds of 5000/1 at the beginning of the season?\", \"options\": {\"a\": \"Leicester City\", \"b\": \"Tottenham Hotspur\", \"c\": \"Manchester City\", \"d\": \"Arsenal\"}, \"correct\": \"a\"}, \"3\": {\"question\": \"Which club has the highest revenue in the Premier League, according to the 2016-17 Deloitte Football Money League report?\", \"options\": {\"a\": \"Manchester United\", \"b\": \"Manchester City\", \"c\": \"Chelsea\", \"d\": \"Liverpool\"}, \"correct\": \"a\"}, \"4\": {\"question\": \"Which club has the second-highest number of European Cup/UEFA Champions League titles, with a record six English clubs having won fifteen European championships in total?\", \"options\": {\"a\": \"Manchester United\", \"b\": \"Liverpool\", \"c\": \"Chelsea\", \"d\": \"Arsenal\"}, \"correct\": \"b\"}, \"5\": {\"question\": \"Which club acquired the nickname \\'The Invincibles\\' following the 2003-04 season?\", \"options\": {\"a\": \"Manchester United\", \"b\": \"Arsenal\", \"c\": \"Chelsea\", \"d\": \"Liverpool\"}, \"correct\": \"b\"}}'"
      ]
     },
     "execution_count": 59,
     "metadata": {},
     "output_type": "execute_result"
    }
   ],
   "source": [
    "response['quiz']"
   ]
  },
  {
   "cell_type": "code",
   "execution_count": 55,
   "metadata": {},
   "outputs": [
    {
     "data": {
      "text/plain": [
       "{'text': 'The Premier League is the highest level of the English football league system. Contested by 20 clubs, it operates on a system of promotion and relegation with the English Football League (EFL). Seasons typically run from August to May, with each team playing 38 matches: two against each other team, one home and one away.[1] Most games are played on Saturday and Sunday afternoons, with occasional weekday evening fixtures.[2]\\n\\nThe competition was founded as the FA Premier League on 20 February 1992 following the decision of First Division (top-tier league from 1888 until 1992) clubs to break away from the English Football League. However, teams may still be relegated to and promoted from the EFL Championship. The Premier League takes advantage of a Â£5 billion television rights deal, with Sky and BT Group securing the domestic rights to broadcast 128 and 32 games, respectively.[3][4] This deal will rise to Â£6.7 billion for the four seasons from 2025 to 2029.[5] The league is projected to earn $7.2bn in overseas TV rights from 2022 to 2025.[6] The Premier League is a corporation managed by a chief executive, with member clubs acting as shareholders.[7] Clubs were apportioned central payment revenues of Â£2.4 billion in 2016â€“17, with a further Â£343 million in solidarity payments to EFL clubs.[8]\\n\\nThe Premier League is the most-watched sports league in the world, broadcast in 212 territories to 643 million homes, with a potential TV audience of 4.7 billion people.[9][10] For the 2018â€“19 season, the average Premier League match attendance was at 38,181,[11] second to the German Bundesliga\\'s 43,500,[12] while aggregated attendance across all matches was the highest of any association football league at 14,508,981,[13] and most stadium occupancies are near capacity.[14] As of 2023, the Premier League is ranked first in the UEFA coefficient rankings based on performances in European competitions over the past five seasons, ahead of Spain\\'s La Liga.[15] The English top-flight has produced the second-highest number of European Cup / UEFA Champions League titles, with a record six English clubs having won fifteen European championships in total.[16]\\n\\nFifty-one clubs have competed in the Premier League since its inception in 1992: 49 from England and two from Wales. Seven of them have won the title: Manchester United (13), Manchester City (7), Chelsea (5), Arsenal (3), Blackburn Rovers (1), Leicester City (1) and Liverpool (1);[17] the two Manchester clubs hold the distinction of having won three titles in a row, while six clubs have avoided relegation: Arsenal, Chelsea, Everton, Liverpool, Manchester United and Tottenham Hotspur.[18\\nThe 2000s saw the rise of first Liverpool, and then Arsenal to real competitiveness, Chelsea finally breaking the duopoly by winning the league in 2004â€“05. The dominance of the so-called \"Big Four\" clubs â€“ Arsenal, Chelsea, Liverpool and Manchester United[39][40] â€“ saw them finish at the top of the table for the bulk of the decade, thereby guaranteeing qualification for the UEFA Champions League. Only three other clubs managed to qualify for the competition during this period: Newcastle United (2001â€“02 and 2002â€“03), Everton (2004â€“05) and Tottenham Hotspur (2009â€“10) â€“ each occupying the final Champions League spot, with the exception of Newcastle in the 2002â€“03 season, who finished third.\\n\\nFollowing the 2003â€“04 season, Arsenal acquired the nickname \"The Invincibles\" as it became the first, and to date, only club to complete a Premier League campaign without losing a single game.[41][42]\\n\\nIn May 2008, Kevin Keegan stated that \"Big Four\" dominance threatened the division: \"This league is in danger of becoming one of the most boring but great leagues in the world.\"[43] Premier League chief executive Richard Scudamore said in defence: \"There are a lot of different tussles that go on in the Premier League depending on whether you\\'re at the top, in the middle or at the bottom that make it interesting.\"[44]\\n\\nBetween 2005 and 2012 there was a Premier League representative in seven of the eight Champions League finals, with only \"Big Four\" clubs reaching that stage. Liverpool (2005), Manchester United (2008) and Chelsea (2012) won the competition during this period, with Arsenal (2006), Liverpool (2007), Chelsea (2008) and Manchester United (2009 and 2011) all losing Champions League finals.[45] Leeds United were the only non-\"Big Four\" side to reach the semi-finals of the Champions League, in the 2000â€“01 season. There were three Premier League teams in the Champions League semi-finals in 2006â€“07, 2007â€“08, and 2008â€“09, a feat only ever achieved five times (along with Serie A in 2002â€“03 and La Liga in 1999â€“2000).\\n\\nAdditionally, between the 1999â€“2000 and 2009â€“10 seasons, four Premier League sides reached UEFA Cup or Europa League finals, with only Liverpool managing to win the competition in 2001. Arsenal (2000), Middlesbrough (2006) and Fulham (2010) all lost their finals.[46]\\n\\nAlthough the group\\'s dominance was reduced to a degree after this period with the emergence of Manchester City and Tottenham, in terms of all-time Premier League points won they remain clear by some margin. As of the end of the 2021â€“22 season â€“ the 27th season of the Premier League â€“ Liverpool, in fourth place in the all-time points table, were over 300 points ahead of the next team, Tottenham Hotspur. They are also the only teams to maintain a winning average of over 50% throughout their entire Premier League tenures.[47]\\nThe years following 2009 marked a shift in the structure of the \"Big Four\" with Tottenham Hotspur and Manchester City both breaking into the top four places on a regular basis, turning the \"Big Four\" into the \"Big Six\".[48] In the 2009â€“10 season, Tottenham finished fourth and became the first team to break into the top four since Everton five years prior.[49] Criticism of the gap between an elite group of \"super clubs\" and the majority of the Premier League has continued, nevertheless, due to their increasing ability to spend more than the other Premier League clubs.[50] Manchester City won the title in the 2011â€“12 season, becoming the first club outside the \"Big Four\" to win since Blackburn Rovers in the 1994â€“95 season. That season also saw two of the \"Big Four\" (Chelsea and Liverpool) finish outside the top four places for the first time since that season.[48]\\n\\nWith only four UEFA Champions League qualifying places available in the league, greater competition for qualification now exists, albeit from a narrow base of six clubs. In the five seasons following the 2011â€“12 campaign, Manchester United and Liverpool both found themselves outside of the top four three times, while Chelsea finished 10th in the 2015â€“16 season. Arsenal finished 5th in 2016â€“17, ending their record run of 20 consecutive top-four finishes.[51]\\n\\nIn the 2015â€“16 season, underdogs Leicester City won the Premier League. With 5000/1 odds of winning the league at the beginning of the season, Leicester became the first club outside the \"Big Six\" to win the Premier League since Blackburn Rovers in the 1994â€“95 season.[52]\\n\\nOff the pitch, the \"Big Six\" wield significant financial power and influence, with these clubs arguing that they should be entitled to a greater share of revenue due to the greater stature of their clubs globally and the attractive football they aim to play.[53] Objectors argue that the egalitarian revenue structure in the Premier League helps to maintain a competitive league which is vital for its future success.[54] The 2016â€“17 Deloitte Football Money League report showed the financial disparity between the \"Big Six\" and the rest of the division. All of the \"Big Six\" had revenues greater than â‚¬350 million, with Manchester United having the largest revenue in the league at â‚¬676.3 million. Leicester City was the closest club to the \"Big Six\" in terms of revenue, recording a figure of â‚¬271.1 million for that season â€“ helped by participation in the Champions League. The eighth-largest revenue generator, West Ham â€“ who did not play in European competition â€“ had revenues of â‚¬213.3 million, less than half of those of the club with the fifth-largest revenue, Liverpool (â‚¬424.2 million).[55] A substantial part of the clubs\\' revenue by then came from television broadcast deals, with the biggest clubs each taking from around Â£150 million to nearly Â£200 million in the 2016â€“17 season from such deals.[56] In Deloitte\\'s 2019 report, all the \"Big Six\" were in the top ten of the world\\'s richest clubs.[57]\\n',\n",
       " 'number': 5,\n",
       " 'subject': 'sports ethusiast',\n",
       " 'tone': 'easy',\n",
       " 'response_json': '{\"1\": {\"question\": \"multiple choice question\", \"options\": {\"a\": \"1st choice\", \"b\": \"2nd choice\", \"c\": \"3rd choice\", \"d\": \"4th choice\"}, \"correct\": \"correct answer\"}, \"2\": {\"question\": \"multiple choice question\", \"options\": {\"a\": \"1st choice\", \"b\": \"2nd choice\", \"c\": \"3rd choice\", \"d\": \"4th choice\"}, \"correct\": \"correct answer\"}, \"3\": {\"question\": \"multiple choice question\", \"options\": {\"a\": \"1st choice\", \"b\": \"2nd choice\", \"c\": \"3rd choice\", \"d\": \"4th choice\"}, \"correct\": \"correct answer\"}}',\n",
       " 'quiz': '{\"1\": {\"question\": \"How many clubs compete in the Premier League?\", \"options\": {\"a\": \"18\", \"b\": \"20\", \"c\": \"22\", \"d\": \"24\"}, \"correct\": \"b\"}, \"2\": {\"question\": \"Which club has won the most Premier League titles?\", \"options\": {\"a\": \"Manchester United\", \"b\": \"Arsenal\", \"c\": \"Chelsea\", \"d\": \"Liverpool\"}, \"correct\": \"a\"}, \"3\": {\"question\": \"Which club was nicknamed \\'The Invincibles\\' after completing a Premier League season without losing a single game?\", \"options\": {\"a\": \"Arsenal\", \"b\": \"Chelsea\", \"c\": \"Manchester United\", \"d\": \"Liverpool\"}, \"correct\": \"a\"}, \"4\": {\"question\": \"Which club won the Premier League title in the 2015-16 season, despite being considered underdogs?\", \"options\": {\"a\": \"Manchester City\", \"b\": \"Leicester City\", \"c\": \"Tottenham Hotspur\", \"d\": \"Arsenal\"}, \"correct\": \"b\"}, \"5\": {\"question\": \"Which club has the highest average attendance in the Premier League?\", \"options\": {\"a\": \"Manchester United\", \"b\": \"Arsenal\", \"c\": \"Liverpool\", \"d\": \"Chelsea\"}, \"correct\": \"c\"}}',\n",
       " 'review': '**Question Complexity Evaluation:**\\n\\nAll questions are within the expected complexity level for sports enthusiast students. They are concise, clear, and use straightforward language. The questions are also relevant to the topic of the Premier League and require knowledge of its history and statistics.\\n\\n**Question Alignment with Student Capabilities:**\\n\\nThe questions are appropriate for students who have a basic understanding of the Premier League and its teams. They require students to recall facts and information, but do not require in-depth analysis or critical thinking.\\n\\n**Updated Questions:**\\n\\nThe questions are already concise and clear, so no updates are necessary.\\n\\n**Tone:**\\n\\nThe tone of the questions is appropriate for a quiz, as they are objective and informative.'}"
      ]
     },
     "execution_count": 55,
     "metadata": {},
     "output_type": "execute_result"
    }
   ],
   "source": [
    "response"
   ]
  },
  {
   "cell_type": "code",
   "execution_count": 61,
   "metadata": {},
   "outputs": [
    {
     "data": {
      "text/plain": [
       "{'1': {'question': 'Which club holds the distinction of being the only one to complete a Premier League campaign without losing a single game?',\n",
       "  'options': {'a': 'Manchester United',\n",
       "   'b': 'Arsenal',\n",
       "   'c': 'Chelsea',\n",
       "   'd': 'Liverpool'},\n",
       "  'correct': 'b'},\n",
       " '2': {'question': 'Which club won the Premier League title in the 2015-16 season, despite having odds of 5000/1 at the beginning of the season?',\n",
       "  'options': {'a': 'Leicester City',\n",
       "   'b': 'Tottenham Hotspur',\n",
       "   'c': 'Manchester City',\n",
       "   'd': 'Arsenal'},\n",
       "  'correct': 'a'},\n",
       " '3': {'question': 'Which club has the highest revenue in the Premier League, according to the 2016-17 Deloitte Football Money League report?',\n",
       "  'options': {'a': 'Manchester United',\n",
       "   'b': 'Manchester City',\n",
       "   'c': 'Chelsea',\n",
       "   'd': 'Liverpool'},\n",
       "  'correct': 'a'},\n",
       " '4': {'question': 'Which club has the second-highest number of European Cup/UEFA Champions League titles, with a record six English clubs having won fifteen European championships in total?',\n",
       "  'options': {'a': 'Manchester United',\n",
       "   'b': 'Liverpool',\n",
       "   'c': 'Chelsea',\n",
       "   'd': 'Arsenal'},\n",
       "  'correct': 'b'},\n",
       " '5': {'question': \"Which club acquired the nickname 'The Invincibles' following the 2003-04 season?\",\n",
       "  'options': {'a': 'Manchester United',\n",
       "   'b': 'Arsenal',\n",
       "   'c': 'Chelsea',\n",
       "   'd': 'Liverpool'},\n",
       "  'correct': 'b'}}"
      ]
     },
     "execution_count": 61,
     "metadata": {},
     "output_type": "execute_result"
    }
   ],
   "source": [
    "json.loads(response['quiz'])"
   ]
  },
  {
   "cell_type": "code",
   "execution_count": 63,
   "metadata": {},
   "outputs": [
    {
     "data": {
      "text/plain": [
       "'**Question Complexity Evaluation:**\\n\\nAll questions are within the capabilities of sports enthusiast students. They are concise, with less than 50 words each, and focus on key facts and trivia related to the Premier League.\\n\\n**Question Alignment with Student Capabilities:**\\n\\nThe questions are appropriate for students who have a basic understanding of the Premier League and its history. They require knowledge of specific clubs, achievements, and statistics.\\n\\n**Updated Questions:**\\n\\nThe questions remain unchanged as they are already concise and clear.\\n\\n**Updated MCQ Quiz Questions:**\\n\\n{\"1\": {\"question\": \"Which club went undefeated in a Premier League season?\", \"options\": {\"a\": \"Manchester United\", \"b\": \"Arsenal\", \"c\": \"Chelsea\", \"d\": \"Liverpool\"}, \"correct\": \"b\"}, \"2\": {\"question\": \"Who won the Premier League in 2015-16 despite long odds?\", \"options\": {\"a\": \"Leicester City\", \"b\": \"Tottenham Hotspur\", \"c\": \"Manchester City\", \"d\": \"Arsenal\"}, \"correct\": \"a\"}, \"3\": {\"question\": \"Which club has the highest revenue in the Premier League?\", \"options\": {\"a\": \"Manchester United\", \"b\": \"Manchester City\", \"c\": \"Chelsea\", \"d\": \"Liverpool\"}, \"correct\": \"a\"}, \"4\": {\"question\": \"Which club has the second-most European Cup/Champions League titles among English clubs?\", \"options\": {\"a\": \"Manchester United\", \"b\": \"Liverpool\", \"c\": \"Chelsea\", \"d\": \"Arsenal\"}, \"correct\": \"b\"}, \"5\": {\"question\": \"Which club earned the nickname \\'The Invincibles\\' in 2003-04?\", \"options\": {\"a\": \"Manchester United\", \"b\": \"Arsenal\", \"c\": \"Chelsea\", \"d\": \"Liverpool\"}, \"correct\": \"b\"}}'"
      ]
     },
     "execution_count": 63,
     "metadata": {},
     "output_type": "execute_result"
    }
   ],
   "source": [
    "response['review']"
   ]
  },
  {
   "cell_type": "code",
   "execution_count": 64,
   "metadata": {},
   "outputs": [
    {
     "data": {
      "text/plain": [
       "'{\"1\": {\"question\": \"Which club holds the distinction of being the only one to complete a Premier League campaign without losing a single game?\", \"options\": {\"a\": \"Manchester United\", \"b\": \"Arsenal\", \"c\": \"Chelsea\", \"d\": \"Liverpool\"}, \"correct\": \"b\"}, \"2\": {\"question\": \"Which club won the Premier League title in the 2015-16 season, despite having odds of 5000/1 at the beginning of the season?\", \"options\": {\"a\": \"Leicester City\", \"b\": \"Tottenham Hotspur\", \"c\": \"Manchester City\", \"d\": \"Arsenal\"}, \"correct\": \"a\"}, \"3\": {\"question\": \"Which club has the highest revenue in the Premier League, according to the 2016-17 Deloitte Football Money League report?\", \"options\": {\"a\": \"Manchester United\", \"b\": \"Manchester City\", \"c\": \"Chelsea\", \"d\": \"Liverpool\"}, \"correct\": \"a\"}, \"4\": {\"question\": \"Which club has the second-highest number of European Cup/UEFA Champions League titles, with a record six English clubs having won fifteen European championships in total?\", \"options\": {\"a\": \"Manchester United\", \"b\": \"Liverpool\", \"c\": \"Chelsea\", \"d\": \"Arsenal\"}, \"correct\": \"b\"}, \"5\": {\"question\": \"Which club acquired the nickname \\'The Invincibles\\' following the 2003-04 season?\", \"options\": {\"a\": \"Manchester United\", \"b\": \"Arsenal\", \"c\": \"Chelsea\", \"d\": \"Liverpool\"}, \"correct\": \"b\"}}'"
      ]
     },
     "execution_count": 64,
     "metadata": {},
     "output_type": "execute_result"
    }
   ],
   "source": [
    "response['quiz']"
   ]
  },
  {
   "cell_type": "code",
   "execution_count": 69,
   "metadata": {},
   "outputs": [
    {
     "data": {
      "text/plain": [
       "dict"
      ]
     },
     "execution_count": 69,
     "metadata": {},
     "output_type": "execute_result"
    }
   ],
   "source": [
    "type(response)"
   ]
  },
  {
   "cell_type": "code",
   "execution_count": 70,
   "metadata": {},
   "outputs": [
    {
     "data": {
      "text/plain": [
       "{'text': 'The Premier League is the highest level of the English football league system. Contested by 20 clubs, it operates on a system of promotion and relegation with the English Football League (EFL). Seasons typically run from August to May, with each team playing 38 matches: two against each other team, one home and one away.[1] Most games are played on Saturday and Sunday afternoons, with occasional weekday evening fixtures.[2]\\n\\nThe competition was founded as the FA Premier League on 20 February 1992 following the decision of First Division (top-tier league from 1888 until 1992) clubs to break away from the English Football League. However, teams may still be relegated to and promoted from the EFL Championship. The Premier League takes advantage of a Â£5 billion television rights deal, with Sky and BT Group securing the domestic rights to broadcast 128 and 32 games, respectively.[3][4] This deal will rise to Â£6.7 billion for the four seasons from 2025 to 2029.[5] The league is projected to earn $7.2bn in overseas TV rights from 2022 to 2025.[6] The Premier League is a corporation managed by a chief executive, with member clubs acting as shareholders.[7] Clubs were apportioned central payment revenues of Â£2.4 billion in 2016â€“17, with a further Â£343 million in solidarity payments to EFL clubs.[8]\\n\\nThe Premier League is the most-watched sports league in the world, broadcast in 212 territories to 643 million homes, with a potential TV audience of 4.7 billion people.[9][10] For the 2018â€“19 season, the average Premier League match attendance was at 38,181,[11] second to the German Bundesliga\\'s 43,500,[12] while aggregated attendance across all matches was the highest of any association football league at 14,508,981,[13] and most stadium occupancies are near capacity.[14] As of 2023, the Premier League is ranked first in the UEFA coefficient rankings based on performances in European competitions over the past five seasons, ahead of Spain\\'s La Liga.[15] The English top-flight has produced the second-highest number of European Cup / UEFA Champions League titles, with a record six English clubs having won fifteen European championships in total.[16]\\n\\nFifty-one clubs have competed in the Premier League since its inception in 1992: 49 from England and two from Wales. Seven of them have won the title: Manchester United (13), Manchester City (7), Chelsea (5), Arsenal (3), Blackburn Rovers (1), Leicester City (1) and Liverpool (1);[17] the two Manchester clubs hold the distinction of having won three titles in a row, while six clubs have avoided relegation: Arsenal, Chelsea, Everton, Liverpool, Manchester United and Tottenham Hotspur.[18\\nThe 2000s saw the rise of first Liverpool, and then Arsenal to real competitiveness, Chelsea finally breaking the duopoly by winning the league in 2004â€“05. The dominance of the so-called \"Big Four\" clubs â€“ Arsenal, Chelsea, Liverpool and Manchester United[39][40] â€“ saw them finish at the top of the table for the bulk of the decade, thereby guaranteeing qualification for the UEFA Champions League. Only three other clubs managed to qualify for the competition during this period: Newcastle United (2001â€“02 and 2002â€“03), Everton (2004â€“05) and Tottenham Hotspur (2009â€“10) â€“ each occupying the final Champions League spot, with the exception of Newcastle in the 2002â€“03 season, who finished third.\\n\\nFollowing the 2003â€“04 season, Arsenal acquired the nickname \"The Invincibles\" as it became the first, and to date, only club to complete a Premier League campaign without losing a single game.[41][42]\\n\\nIn May 2008, Kevin Keegan stated that \"Big Four\" dominance threatened the division: \"This league is in danger of becoming one of the most boring but great leagues in the world.\"[43] Premier League chief executive Richard Scudamore said in defence: \"There are a lot of different tussles that go on in the Premier League depending on whether you\\'re at the top, in the middle or at the bottom that make it interesting.\"[44]\\n\\nBetween 2005 and 2012 there was a Premier League representative in seven of the eight Champions League finals, with only \"Big Four\" clubs reaching that stage. Liverpool (2005), Manchester United (2008) and Chelsea (2012) won the competition during this period, with Arsenal (2006), Liverpool (2007), Chelsea (2008) and Manchester United (2009 and 2011) all losing Champions League finals.[45] Leeds United were the only non-\"Big Four\" side to reach the semi-finals of the Champions League, in the 2000â€“01 season. There were three Premier League teams in the Champions League semi-finals in 2006â€“07, 2007â€“08, and 2008â€“09, a feat only ever achieved five times (along with Serie A in 2002â€“03 and La Liga in 1999â€“2000).\\n\\nAdditionally, between the 1999â€“2000 and 2009â€“10 seasons, four Premier League sides reached UEFA Cup or Europa League finals, with only Liverpool managing to win the competition in 2001. Arsenal (2000), Middlesbrough (2006) and Fulham (2010) all lost their finals.[46]\\n\\nAlthough the group\\'s dominance was reduced to a degree after this period with the emergence of Manchester City and Tottenham, in terms of all-time Premier League points won they remain clear by some margin. As of the end of the 2021â€“22 season â€“ the 27th season of the Premier League â€“ Liverpool, in fourth place in the all-time points table, were over 300 points ahead of the next team, Tottenham Hotspur. They are also the only teams to maintain a winning average of over 50% throughout their entire Premier League tenures.[47]\\nThe years following 2009 marked a shift in the structure of the \"Big Four\" with Tottenham Hotspur and Manchester City both breaking into the top four places on a regular basis, turning the \"Big Four\" into the \"Big Six\".[48] In the 2009â€“10 season, Tottenham finished fourth and became the first team to break into the top four since Everton five years prior.[49] Criticism of the gap between an elite group of \"super clubs\" and the majority of the Premier League has continued, nevertheless, due to their increasing ability to spend more than the other Premier League clubs.[50] Manchester City won the title in the 2011â€“12 season, becoming the first club outside the \"Big Four\" to win since Blackburn Rovers in the 1994â€“95 season. That season also saw two of the \"Big Four\" (Chelsea and Liverpool) finish outside the top four places for the first time since that season.[48]\\n\\nWith only four UEFA Champions League qualifying places available in the league, greater competition for qualification now exists, albeit from a narrow base of six clubs. In the five seasons following the 2011â€“12 campaign, Manchester United and Liverpool both found themselves outside of the top four three times, while Chelsea finished 10th in the 2015â€“16 season. Arsenal finished 5th in 2016â€“17, ending their record run of 20 consecutive top-four finishes.[51]\\n\\nIn the 2015â€“16 season, underdogs Leicester City won the Premier League. With 5000/1 odds of winning the league at the beginning of the season, Leicester became the first club outside the \"Big Six\" to win the Premier League since Blackburn Rovers in the 1994â€“95 season.[52]\\n\\nOff the pitch, the \"Big Six\" wield significant financial power and influence, with these clubs arguing that they should be entitled to a greater share of revenue due to the greater stature of their clubs globally and the attractive football they aim to play.[53] Objectors argue that the egalitarian revenue structure in the Premier League helps to maintain a competitive league which is vital for its future success.[54] The 2016â€“17 Deloitte Football Money League report showed the financial disparity between the \"Big Six\" and the rest of the division. All of the \"Big Six\" had revenues greater than â‚¬350 million, with Manchester United having the largest revenue in the league at â‚¬676.3 million. Leicester City was the closest club to the \"Big Six\" in terms of revenue, recording a figure of â‚¬271.1 million for that season â€“ helped by participation in the Champions League. The eighth-largest revenue generator, West Ham â€“ who did not play in European competition â€“ had revenues of â‚¬213.3 million, less than half of those of the club with the fifth-largest revenue, Liverpool (â‚¬424.2 million).[55] A substantial part of the clubs\\' revenue by then came from television broadcast deals, with the biggest clubs each taking from around Â£150 million to nearly Â£200 million in the 2016â€“17 season from such deals.[56] In Deloitte\\'s 2019 report, all the \"Big Six\" were in the top ten of the world\\'s richest clubs.[57]\\n',\n",
       " 'number': 5,\n",
       " 'subject': 'sports ethusiast',\n",
       " 'tone': 'extremely hard',\n",
       " 'response_json': '{\"1\": {\"question\": \"multiple choice question\", \"options\": {\"a\": \"1st choice\", \"b\": \"2nd choice\", \"c\": \"3rd choice\", \"d\": \"4th choice\"}, \"correct\": \"correct answer\"}, \"2\": {\"question\": \"multiple choice question\", \"options\": {\"a\": \"1st choice\", \"b\": \"2nd choice\", \"c\": \"3rd choice\", \"d\": \"4th choice\"}, \"correct\": \"correct answer\"}, \"3\": {\"question\": \"multiple choice question\", \"options\": {\"a\": \"1st choice\", \"b\": \"2nd choice\", \"c\": \"3rd choice\", \"d\": \"4th choice\"}, \"correct\": \"correct answer\"}}',\n",
       " 'quiz': '{\"1\": {\"question\": \"Which club holds the distinction of being the only one to complete a Premier League campaign without losing a single game?\", \"options\": {\"a\": \"Manchester United\", \"b\": \"Arsenal\", \"c\": \"Chelsea\", \"d\": \"Liverpool\"}, \"correct\": \"b\"}, \"2\": {\"question\": \"Which club won the Premier League title in the 2015-16 season, despite having odds of 5000/1 at the beginning of the season?\", \"options\": {\"a\": \"Leicester City\", \"b\": \"Tottenham Hotspur\", \"c\": \"Manchester City\", \"d\": \"Arsenal\"}, \"correct\": \"a\"}, \"3\": {\"question\": \"Which club has the highest revenue in the Premier League, according to the 2016-17 Deloitte Football Money League report?\", \"options\": {\"a\": \"Manchester United\", \"b\": \"Manchester City\", \"c\": \"Chelsea\", \"d\": \"Liverpool\"}, \"correct\": \"a\"}, \"4\": {\"question\": \"Which club has the second-highest number of European Cup/UEFA Champions League titles, with a record six English clubs having won fifteen European championships in total?\", \"options\": {\"a\": \"Manchester United\", \"b\": \"Liverpool\", \"c\": \"Chelsea\", \"d\": \"Arsenal\"}, \"correct\": \"b\"}, \"5\": {\"question\": \"Which club acquired the nickname \\'The Invincibles\\' following the 2003-04 season?\", \"options\": {\"a\": \"Manchester United\", \"b\": \"Arsenal\", \"c\": \"Chelsea\", \"d\": \"Liverpool\"}, \"correct\": \"b\"}}',\n",
       " 'review': '**Question Complexity Evaluation:**\\n\\nAll questions are within the capabilities of sports enthusiast students. They are concise, with less than 50 words each, and focus on key facts and trivia related to the Premier League.\\n\\n**Question Alignment with Student Capabilities:**\\n\\nThe questions are appropriate for students who have a basic understanding of the Premier League and its history. They require knowledge of specific clubs, achievements, and statistics.\\n\\n**Updated Questions:**\\n\\nThe questions remain unchanged as they are already concise and clear.\\n\\n**Updated MCQ Quiz Questions:**\\n\\n{\"1\": {\"question\": \"Which club went undefeated in a Premier League season?\", \"options\": {\"a\": \"Manchester United\", \"b\": \"Arsenal\", \"c\": \"Chelsea\", \"d\": \"Liverpool\"}, \"correct\": \"b\"}, \"2\": {\"question\": \"Who won the Premier League in 2015-16 despite long odds?\", \"options\": {\"a\": \"Leicester City\", \"b\": \"Tottenham Hotspur\", \"c\": \"Manchester City\", \"d\": \"Arsenal\"}, \"correct\": \"a\"}, \"3\": {\"question\": \"Which club has the highest revenue in the Premier League?\", \"options\": {\"a\": \"Manchester United\", \"b\": \"Manchester City\", \"c\": \"Chelsea\", \"d\": \"Liverpool\"}, \"correct\": \"a\"}, \"4\": {\"question\": \"Which club has the second-most European Cup/Champions League titles among English clubs?\", \"options\": {\"a\": \"Manchester United\", \"b\": \"Liverpool\", \"c\": \"Chelsea\", \"d\": \"Arsenal\"}, \"correct\": \"b\"}, \"5\": {\"question\": \"Which club earned the nickname \\'The Invincibles\\' in 2003-04?\", \"options\": {\"a\": \"Manchester United\", \"b\": \"Arsenal\", \"c\": \"Chelsea\", \"d\": \"Liverpool\"}, \"correct\": \"b\"}}'}"
      ]
     },
     "execution_count": 70,
     "metadata": {},
     "output_type": "execute_result"
    }
   ],
   "source": [
    "response"
   ]
  },
  {
   "cell_type": "code",
   "execution_count": 71,
   "metadata": {},
   "outputs": [],
   "source": [
    "quiz = response.get(\"quiz\")"
   ]
  },
  {
   "cell_type": "code",
   "execution_count": 72,
   "metadata": {},
   "outputs": [
    {
     "data": {
      "text/plain": [
       "'{\"1\": {\"question\": \"Which club holds the distinction of being the only one to complete a Premier League campaign without losing a single game?\", \"options\": {\"a\": \"Manchester United\", \"b\": \"Arsenal\", \"c\": \"Chelsea\", \"d\": \"Liverpool\"}, \"correct\": \"b\"}, \"2\": {\"question\": \"Which club won the Premier League title in the 2015-16 season, despite having odds of 5000/1 at the beginning of the season?\", \"options\": {\"a\": \"Leicester City\", \"b\": \"Tottenham Hotspur\", \"c\": \"Manchester City\", \"d\": \"Arsenal\"}, \"correct\": \"a\"}, \"3\": {\"question\": \"Which club has the highest revenue in the Premier League, according to the 2016-17 Deloitte Football Money League report?\", \"options\": {\"a\": \"Manchester United\", \"b\": \"Manchester City\", \"c\": \"Chelsea\", \"d\": \"Liverpool\"}, \"correct\": \"a\"}, \"4\": {\"question\": \"Which club has the second-highest number of European Cup/UEFA Champions League titles, with a record six English clubs having won fifteen European championships in total?\", \"options\": {\"a\": \"Manchester United\", \"b\": \"Liverpool\", \"c\": \"Chelsea\", \"d\": \"Arsenal\"}, \"correct\": \"b\"}, \"5\": {\"question\": \"Which club acquired the nickname \\'The Invincibles\\' following the 2003-04 season?\", \"options\": {\"a\": \"Manchester United\", \"b\": \"Arsenal\", \"c\": \"Chelsea\", \"d\": \"Liverpool\"}, \"correct\": \"b\"}}'"
      ]
     },
     "execution_count": 72,
     "metadata": {},
     "output_type": "execute_result"
    }
   ],
   "source": [
    "quiz"
   ]
  },
  {
   "cell_type": "code",
   "execution_count": 73,
   "metadata": {},
   "outputs": [
    {
     "data": {
      "text/plain": [
       "str"
      ]
     },
     "execution_count": 73,
     "metadata": {},
     "output_type": "execute_result"
    }
   ],
   "source": [
    "type(quiz)"
   ]
  },
  {
   "cell_type": "code",
   "execution_count": 75,
   "metadata": {},
   "outputs": [
    {
     "data": {
      "text/plain": [
       "dict"
      ]
     },
     "execution_count": 75,
     "metadata": {},
     "output_type": "execute_result"
    }
   ],
   "source": [
    "quiz = json.loads(quiz)\n",
    "type(quiz)"
   ]
  },
  {
   "cell_type": "code",
   "execution_count": 77,
   "metadata": {},
   "outputs": [
    {
     "data": {
      "text/plain": [
       "{'1': {'question': 'Which club holds the distinction of being the only one to complete a Premier League campaign without losing a single game?',\n",
       "  'options': {'a': 'Manchester United',\n",
       "   'b': 'Arsenal',\n",
       "   'c': 'Chelsea',\n",
       "   'd': 'Liverpool'},\n",
       "  'correct': 'b'},\n",
       " '2': {'question': 'Which club won the Premier League title in the 2015-16 season, despite having odds of 5000/1 at the beginning of the season?',\n",
       "  'options': {'a': 'Leicester City',\n",
       "   'b': 'Tottenham Hotspur',\n",
       "   'c': 'Manchester City',\n",
       "   'd': 'Arsenal'},\n",
       "  'correct': 'a'},\n",
       " '3': {'question': 'Which club has the highest revenue in the Premier League, according to the 2016-17 Deloitte Football Money League report?',\n",
       "  'options': {'a': 'Manchester United',\n",
       "   'b': 'Manchester City',\n",
       "   'c': 'Chelsea',\n",
       "   'd': 'Liverpool'},\n",
       "  'correct': 'a'},\n",
       " '4': {'question': 'Which club has the second-highest number of European Cup/UEFA Champions League titles, with a record six English clubs having won fifteen European championships in total?',\n",
       "  'options': {'a': 'Manchester United',\n",
       "   'b': 'Liverpool',\n",
       "   'c': 'Chelsea',\n",
       "   'd': 'Arsenal'},\n",
       "  'correct': 'b'},\n",
       " '5': {'question': \"Which club acquired the nickname 'The Invincibles' following the 2003-04 season?\",\n",
       "  'options': {'a': 'Manchester United',\n",
       "   'b': 'Arsenal',\n",
       "   'c': 'Chelsea',\n",
       "   'd': 'Liverpool'},\n",
       "  'correct': 'b'}}"
      ]
     },
     "execution_count": 77,
     "metadata": {},
     "output_type": "execute_result"
    }
   ],
   "source": [
    "quiz"
   ]
  },
  {
   "cell_type": "code",
   "execution_count": 76,
   "metadata": {},
   "outputs": [
    {
     "name": "stdout",
     "output_type": "stream",
     "text": [
      "1 = {'question': 'Which club holds the distinction of being the only one to complete a Premier League campaign without losing a single game?', 'options': {'a': 'Manchester United', 'b': 'Arsenal', 'c': 'Chelsea', 'd': 'Liverpool'}, 'correct': 'b'}\n",
      "2 = {'question': 'Which club won the Premier League title in the 2015-16 season, despite having odds of 5000/1 at the beginning of the season?', 'options': {'a': 'Leicester City', 'b': 'Tottenham Hotspur', 'c': 'Manchester City', 'd': 'Arsenal'}, 'correct': 'a'}\n",
      "3 = {'question': 'Which club has the highest revenue in the Premier League, according to the 2016-17 Deloitte Football Money League report?', 'options': {'a': 'Manchester United', 'b': 'Manchester City', 'c': 'Chelsea', 'd': 'Liverpool'}, 'correct': 'a'}\n",
      "4 = {'question': 'Which club has the second-highest number of European Cup/UEFA Champions League titles, with a record six English clubs having won fifteen European championships in total?', 'options': {'a': 'Manchester United', 'b': 'Liverpool', 'c': 'Chelsea', 'd': 'Arsenal'}, 'correct': 'b'}\n",
      "5 = {'question': \"Which club acquired the nickname 'The Invincibles' following the 2003-04 season?\", 'options': {'a': 'Manchester United', 'b': 'Arsenal', 'c': 'Chelsea', 'd': 'Liverpool'}, 'correct': 'b'}\n"
     ]
    }
   ],
   "source": [
    "for key, value in quiz.items():\n",
    "    print(f\"{key} = {value}\")"
   ]
  },
  {
   "cell_type": "code",
   "execution_count": 78,
   "metadata": {},
   "outputs": [],
   "source": [
    "formatted_data = []\n",
    "\n",
    "for key, value in quiz.items():\n",
    "    options = ' | '.join([f\"{k}: {v}\" for k, v in value['options'].items()])\n",
    "    question_data = {\n",
    "        'question_no': key,\n",
    "        'question': value['question'],\n",
    "        'options': options,\n",
    "        'correct': value['correct']\n",
    "    }\n",
    "    formatted_data.append(question_data)\n"
   ]
  },
  {
   "cell_type": "code",
   "execution_count": 79,
   "metadata": {},
   "outputs": [
    {
     "data": {
      "text/plain": [
       "[{'question_no': '1',\n",
       "  'question': 'Which club holds the distinction of being the only one to complete a Premier League campaign without losing a single game?',\n",
       "  'options': 'a: Manchester United | b: Arsenal | c: Chelsea | d: Liverpool',\n",
       "  'correct': 'b'},\n",
       " {'question_no': '2',\n",
       "  'question': 'Which club won the Premier League title in the 2015-16 season, despite having odds of 5000/1 at the beginning of the season?',\n",
       "  'options': 'a: Leicester City | b: Tottenham Hotspur | c: Manchester City | d: Arsenal',\n",
       "  'correct': 'a'},\n",
       " {'question_no': '3',\n",
       "  'question': 'Which club has the highest revenue in the Premier League, according to the 2016-17 Deloitte Football Money League report?',\n",
       "  'options': 'a: Manchester United | b: Manchester City | c: Chelsea | d: Liverpool',\n",
       "  'correct': 'a'},\n",
       " {'question_no': '4',\n",
       "  'question': 'Which club has the second-highest number of European Cup/UEFA Champions League titles, with a record six English clubs having won fifteen European championships in total?',\n",
       "  'options': 'a: Manchester United | b: Liverpool | c: Chelsea | d: Arsenal',\n",
       "  'correct': 'b'},\n",
       " {'question_no': '5',\n",
       "  'question': \"Which club acquired the nickname 'The Invincibles' following the 2003-04 season?\",\n",
       "  'options': 'a: Manchester United | b: Arsenal | c: Chelsea | d: Liverpool',\n",
       "  'correct': 'b'}]"
      ]
     },
     "execution_count": 79,
     "metadata": {},
     "output_type": "execute_result"
    }
   ],
   "source": [
    "formatted_data"
   ]
  },
  {
   "cell_type": "code",
   "execution_count": 80,
   "metadata": {},
   "outputs": [],
   "source": [
    "import csv"
   ]
  },
  {
   "cell_type": "code",
   "execution_count": 81,
   "metadata": {},
   "outputs": [
    {
     "name": "stdout",
     "output_type": "stream",
     "text": [
      "CSV file 'questions.csv' has been created successfully.\n"
     ]
    }
   ],
   "source": [
    "csv_file_path = 'questions.csv'\n",
    "\n",
    "# Write data to CSV file\n",
    "with open(csv_file_path, 'w', newline='', encoding='utf-8') as csvfile:\n",
    "    fieldnames = ['question_no', 'question', 'options', 'correct']\n",
    "    writer = csv.DictWriter(csvfile, fieldnames=fieldnames)\n",
    "\n",
    "    writer.writeheader()\n",
    "    for question_data in formatted_data:\n",
    "        writer.writerow(question_data)\n",
    "\n",
    "print(f\"CSV file '{csv_file_path}' has been created successfully.\")"
   ]
  },
  {
   "cell_type": "code",
   "execution_count": 2,
   "metadata": {},
   "outputs": [
    {
     "data": {
      "text/plain": [
       "'08_04_2024_12_32_18'"
      ]
     },
     "execution_count": 2,
     "metadata": {},
     "output_type": "execute_result"
    }
   ],
   "source": [
    "from datetime import datetime\n",
    "datetime.now().strftime(\"%d_%m_%Y_%H_%M_%S\")"
   ]
  },
  {
   "cell_type": "code",
   "execution_count": null,
   "metadata": {},
   "outputs": [],
   "source": []
  }
 ],
 "metadata": {
  "kernelspec": {
   "display_name": "genai-practise",
   "language": "python",
   "name": "python3"
  },
  "language_info": {
   "codemirror_mode": {
    "name": "ipython",
    "version": 3
   },
   "file_extension": ".py",
   "mimetype": "text/x-python",
   "name": "python",
   "nbconvert_exporter": "python",
   "pygments_lexer": "ipython3",
   "version": "3.9.19"
  }
 },
 "nbformat": 4,
 "nbformat_minor": 2
}
